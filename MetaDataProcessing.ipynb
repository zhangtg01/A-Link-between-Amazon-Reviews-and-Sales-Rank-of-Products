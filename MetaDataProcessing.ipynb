{
 "cells": [
  {
   "cell_type": "markdown",
   "id": "e2afd640",
   "metadata": {},
   "source": [
    "# Meta Data Processing Worksheet"
   ]
  },
  {
   "cell_type": "code",
   "execution_count": 1,
   "id": "c2c00d64",
   "metadata": {},
   "outputs": [],
   "source": [
    "#load necessary packages:\n",
    "import pandas as pd"
   ]
  },
  {
   "cell_type": "code",
   "execution_count": 7,
   "id": "f8eba0f7",
   "metadata": {},
   "outputs": [
    {
     "data": {
      "text/html": [
       "<div>\n",
       "<style scoped>\n",
       "    .dataframe tbody tr th:only-of-type {\n",
       "        vertical-align: middle;\n",
       "    }\n",
       "\n",
       "    .dataframe tbody tr th {\n",
       "        vertical-align: top;\n",
       "    }\n",
       "\n",
       "    .dataframe thead th {\n",
       "        text-align: right;\n",
       "    }\n",
       "</style>\n",
       "<table border=\"1\" class=\"dataframe\">\n",
       "  <thead>\n",
       "    <tr style=\"text-align: right;\">\n",
       "      <th></th>\n",
       "      <th>asin</th>\n",
       "      <th>rank</th>\n",
       "      <th>description</th>\n",
       "      <th>title</th>\n",
       "      <th>brand</th>\n",
       "      <th>price</th>\n",
       "    </tr>\n",
       "  </thead>\n",
       "  <tbody>\n",
       "    <tr>\n",
       "      <th>0</th>\n",
       "      <td>6546546450</td>\n",
       "      <td>2938573</td>\n",
       "      <td>Loud 'N Clear Personal Sound Amplifier allows ...</td>\n",
       "      <td>Loud 'N Clear&amp;trade; Personal Sound Amplifier</td>\n",
       "      <td>idea village</td>\n",
       "      <td>NaN</td>\n",
       "    </tr>\n",
       "    <tr>\n",
       "      <th>1</th>\n",
       "      <td>7178680776</td>\n",
       "      <td>872854</td>\n",
       "      <td>No7 Lift &amp; Luminate Triple Action Serum 50ml b...</td>\n",
       "      <td>No7 Lift &amp;amp; Luminate Triple Action Serum 50...</td>\n",
       "      <td>NaN</td>\n",
       "      <td>44.99</td>\n",
       "    </tr>\n",
       "    <tr>\n",
       "      <th>2</th>\n",
       "      <td>7250468162</td>\n",
       "      <td>956696</td>\n",
       "      <td>No7 Stay Perfect Foundation now stays perfect ...</td>\n",
       "      <td>No7 Stay Perfect Foundation Cool Vanilla by No7</td>\n",
       "      <td>No7</td>\n",
       "      <td>28.76</td>\n",
       "    </tr>\n",
       "    <tr>\n",
       "      <th>3</th>\n",
       "      <td>7367905066</td>\n",
       "      <td>1870258</td>\n",
       "      <td>NaN</td>\n",
       "      <td>Wella Koleston Perfect Hair Colour 44/44 Mediu...</td>\n",
       "      <td>NaN</td>\n",
       "      <td>NaN</td>\n",
       "    </tr>\n",
       "    <tr>\n",
       "      <th>4</th>\n",
       "      <td>7414204790</td>\n",
       "      <td>67701</td>\n",
       "      <td>Lacto Calamine Skin Balance Daily Nourishing L...</td>\n",
       "      <td>Lacto Calamine Skin Balance Oil control 120 ml...</td>\n",
       "      <td>Pirmal Healthcare</td>\n",
       "      <td>12.15</td>\n",
       "    </tr>\n",
       "  </tbody>\n",
       "</table>\n",
       "</div>"
      ],
      "text/plain": [
       "         asin     rank                                        description  \\\n",
       "0  6546546450  2938573  Loud 'N Clear Personal Sound Amplifier allows ...   \n",
       "1  7178680776   872854  No7 Lift & Luminate Triple Action Serum 50ml b...   \n",
       "2  7250468162   956696  No7 Stay Perfect Foundation now stays perfect ...   \n",
       "3  7367905066  1870258                                                NaN   \n",
       "4  7414204790    67701  Lacto Calamine Skin Balance Daily Nourishing L...   \n",
       "\n",
       "                                               title              brand  price  \n",
       "0      Loud 'N Clear&trade; Personal Sound Amplifier       idea village    NaN  \n",
       "1  No7 Lift &amp; Luminate Triple Action Serum 50...                NaN  44.99  \n",
       "2    No7 Stay Perfect Foundation Cool Vanilla by No7                No7  28.76  \n",
       "3  Wella Koleston Perfect Hair Colour 44/44 Mediu...                NaN    NaN  \n",
       "4  Lacto Calamine Skin Balance Oil control 120 ml...  Pirmal Healthcare  12.15  "
      ]
     },
     "execution_count": 7,
     "metadata": {},
     "output_type": "execute_result"
    }
   ],
   "source": [
    "#import metadata:\n",
    "dfm = pd.read_csv ('meta_data_mini.csv')\n",
    "dfm.head()"
   ]
  },
  {
   "cell_type": "code",
   "execution_count": 8,
   "id": "79148cf0",
   "metadata": {},
   "outputs": [
    {
     "name": "stdout",
     "output_type": "stream",
     "text": [
      "<class 'pandas.core.frame.DataFrame'>\n",
      "RangeIndex: 32216 entries, 0 to 32215\n",
      "Data columns (total 6 columns):\n",
      " #   Column       Non-Null Count  Dtype  \n",
      "---  ------       --------------  -----  \n",
      " 0   asin         32216 non-null  object \n",
      " 1   rank         32216 non-null  int64  \n",
      " 2   description  14788 non-null  object \n",
      " 3   title        32216 non-null  object \n",
      " 4   brand        16837 non-null  object \n",
      " 5   price        11126 non-null  float64\n",
      "dtypes: float64(1), int64(1), object(4)\n",
      "memory usage: 1.5+ MB\n"
     ]
    }
   ],
   "source": [
    "dfm.info()"
   ]
  },
  {
   "cell_type": "code",
   "execution_count": 9,
   "id": "08987515",
   "metadata": {},
   "outputs": [
    {
     "data": {
      "text/plain": [
       "32216"
      ]
     },
     "execution_count": 9,
     "metadata": {},
     "output_type": "execute_result"
    }
   ],
   "source": [
    "len(dfm)"
   ]
  },
  {
   "cell_type": "code",
   "execution_count": 16,
   "id": "e7beb07c",
   "metadata": {},
   "outputs": [
    {
     "data": {
      "text/plain": [
       "asin           31864\n",
       "rank           31661\n",
       "description    13457\n",
       "title          31680\n",
       "brand           7719\n",
       "price           3481\n",
       "dtype: int64"
      ]
     },
     "execution_count": 16,
     "metadata": {},
     "output_type": "execute_result"
    }
   ],
   "source": [
    "#are all values unique (especially asins which will be our primary keys?)\n",
    "dfm.nunique()"
   ]
  },
  {
   "cell_type": "code",
   "execution_count": 27,
   "id": "9d36ae69",
   "metadata": {},
   "outputs": [
    {
     "data": {
      "text/plain": [
       "352"
      ]
     },
     "execution_count": 27,
     "metadata": {},
     "output_type": "execute_result"
    }
   ],
   "source": [
    "#all asins are not unique - get the count of how many non-unique asins:\n",
    "num_non_unique = 32216-31864\n",
    "num_non_unique"
   ]
  },
  {
   "cell_type": "code",
   "execution_count": 28,
   "id": "0d7a29f1",
   "metadata": {},
   "outputs": [],
   "source": [
    "#remove duplicate asin rows\n",
    "dfm.drop_duplicates(subset =\"asin\",\n",
    "                     keep = False, inplace = True)"
   ]
  },
  {
   "cell_type": "code",
   "execution_count": 30,
   "id": "524913f9",
   "metadata": {},
   "outputs": [
    {
     "name": "stdout",
     "output_type": "stream",
     "text": [
      "<class 'pandas.core.frame.DataFrame'>\n",
      "Int64Index: 31512 entries, 0 to 32215\n",
      "Data columns (total 6 columns):\n",
      " #   Column       Non-Null Count  Dtype  \n",
      "---  ------       --------------  -----  \n",
      " 0   asin         31512 non-null  object \n",
      " 1   rank         31512 non-null  int64  \n",
      " 2   description  14278 non-null  object \n",
      " 3   title        31512 non-null  object \n",
      " 4   brand        16303 non-null  object \n",
      " 5   price        10936 non-null  float64\n",
      "dtypes: float64(1), int64(1), object(4)\n",
      "memory usage: 1.7+ MB\n"
     ]
    }
   ],
   "source": [
    "len(dfm)\n",
    "dfm.info()"
   ]
  },
  {
   "cell_type": "code",
   "execution_count": 31,
   "id": "f1e569dc",
   "metadata": {},
   "outputs": [
    {
     "data": {
      "text/plain": [
       "asin           31512\n",
       "rank           31312\n",
       "description    13206\n",
       "title          31331\n",
       "brand           7644\n",
       "price           3461\n",
       "dtype: int64"
      ]
     },
     "execution_count": 31,
     "metadata": {},
     "output_type": "execute_result"
    }
   ],
   "source": [
    "dfm.nunique()"
   ]
  },
  {
   "cell_type": "code",
   "execution_count": 32,
   "id": "1c891863",
   "metadata": {},
   "outputs": [
    {
     "data": {
      "text/plain": [
       "704"
      ]
     },
     "execution_count": 32,
     "metadata": {},
     "output_type": "execute_result"
    }
   ],
   "source": [
    "number_dropped = 32216 - 31512\n",
    "number_dropped"
   ]
  },
  {
   "cell_type": "code",
   "execution_count": 34,
   "id": "eba1180e",
   "metadata": {},
   "outputs": [],
   "source": [
    "#include label for index row:\n",
    "dfm.index.name = 'rownum'\n",
    "#outputting dataframe to csv file (this will now be the products table):\n",
    "dfm.to_csv('products.csv')"
   ]
  },
  {
   "cell_type": "code",
   "execution_count": 35,
   "id": "9aeea6e6",
   "metadata": {},
   "outputs": [
    {
     "data": {
      "text/html": [
       "<div>\n",
       "<style scoped>\n",
       "    .dataframe tbody tr th:only-of-type {\n",
       "        vertical-align: middle;\n",
       "    }\n",
       "\n",
       "    .dataframe tbody tr th {\n",
       "        vertical-align: top;\n",
       "    }\n",
       "\n",
       "    .dataframe thead th {\n",
       "        text-align: right;\n",
       "    }\n",
       "</style>\n",
       "<table border=\"1\" class=\"dataframe\">\n",
       "  <thead>\n",
       "    <tr style=\"text-align: right;\">\n",
       "      <th></th>\n",
       "      <th>asin</th>\n",
       "      <th>also_buy1</th>\n",
       "      <th>also_buy2</th>\n",
       "      <th>also_buy3</th>\n",
       "      <th>also_buy4</th>\n",
       "      <th>also_buy5</th>\n",
       "      <th>also_buy6</th>\n",
       "      <th>also_buy7</th>\n",
       "      <th>also_buy8</th>\n",
       "      <th>also_buy9</th>\n",
       "      <th>...</th>\n",
       "      <th>also_buy91</th>\n",
       "      <th>also_buy92</th>\n",
       "      <th>also_buy93</th>\n",
       "      <th>also_buy94</th>\n",
       "      <th>also_buy95</th>\n",
       "      <th>also_buy96</th>\n",
       "      <th>also_buy97</th>\n",
       "      <th>also_buy98</th>\n",
       "      <th>also_buy99</th>\n",
       "      <th>also_buy100</th>\n",
       "    </tr>\n",
       "  </thead>\n",
       "  <tbody>\n",
       "    <tr>\n",
       "      <th>0</th>\n",
       "      <td>7178680776</td>\n",
       "      <td>B01E7LCSL6</td>\n",
       "      <td>B008X5RVME</td>\n",
       "      <td>NaN</td>\n",
       "      <td>NaN</td>\n",
       "      <td>NaN</td>\n",
       "      <td>NaN</td>\n",
       "      <td>NaN</td>\n",
       "      <td>NaN</td>\n",
       "      <td>NaN</td>\n",
       "      <td>...</td>\n",
       "      <td>NaN</td>\n",
       "      <td>NaN</td>\n",
       "      <td>NaN</td>\n",
       "      <td>NaN</td>\n",
       "      <td>NaN</td>\n",
       "      <td>NaN</td>\n",
       "      <td>NaN</td>\n",
       "      <td>NaN</td>\n",
       "      <td>NaN</td>\n",
       "      <td>NaN</td>\n",
       "    </tr>\n",
       "    <tr>\n",
       "      <th>1</th>\n",
       "      <td>7367905066</td>\n",
       "      <td>B0041PBXX8</td>\n",
       "      <td>NaN</td>\n",
       "      <td>NaN</td>\n",
       "      <td>NaN</td>\n",
       "      <td>NaN</td>\n",
       "      <td>NaN</td>\n",
       "      <td>NaN</td>\n",
       "      <td>NaN</td>\n",
       "      <td>NaN</td>\n",
       "      <td>...</td>\n",
       "      <td>NaN</td>\n",
       "      <td>NaN</td>\n",
       "      <td>NaN</td>\n",
       "      <td>NaN</td>\n",
       "      <td>NaN</td>\n",
       "      <td>NaN</td>\n",
       "      <td>NaN</td>\n",
       "      <td>NaN</td>\n",
       "      <td>NaN</td>\n",
       "      <td>NaN</td>\n",
       "    </tr>\n",
       "    <tr>\n",
       "      <th>2</th>\n",
       "      <td>9742121109</td>\n",
       "      <td>B00IWI42GU</td>\n",
       "      <td>B005MZPP6M</td>\n",
       "      <td>B00BQKRFE2</td>\n",
       "      <td>B073K2C8C1</td>\n",
       "      <td>B00FM63WNY</td>\n",
       "      <td>B00OIDYK6A</td>\n",
       "      <td>B005IDTVC2</td>\n",
       "      <td>B015F41H3O</td>\n",
       "      <td>NaN</td>\n",
       "      <td>...</td>\n",
       "      <td>NaN</td>\n",
       "      <td>NaN</td>\n",
       "      <td>NaN</td>\n",
       "      <td>NaN</td>\n",
       "      <td>NaN</td>\n",
       "      <td>NaN</td>\n",
       "      <td>NaN</td>\n",
       "      <td>NaN</td>\n",
       "      <td>NaN</td>\n",
       "      <td>NaN</td>\n",
       "    </tr>\n",
       "    <tr>\n",
       "      <th>3</th>\n",
       "      <td>9790787006</td>\n",
       "      <td>B004D8JQ4G</td>\n",
       "      <td>B0020MMD0G</td>\n",
       "      <td>B00ENL4HJW</td>\n",
       "      <td>B011YR4E4A</td>\n",
       "      <td>B001B0X05U</td>\n",
       "      <td>60539100</td>\n",
       "      <td>B008X9T0B0</td>\n",
       "      <td>B004IFOXFQ</td>\n",
       "      <td>B00AIZU9IU</td>\n",
       "      <td>...</td>\n",
       "      <td>NaN</td>\n",
       "      <td>NaN</td>\n",
       "      <td>NaN</td>\n",
       "      <td>NaN</td>\n",
       "      <td>NaN</td>\n",
       "      <td>NaN</td>\n",
       "      <td>NaN</td>\n",
       "      <td>NaN</td>\n",
       "      <td>NaN</td>\n",
       "      <td>NaN</td>\n",
       "    </tr>\n",
       "    <tr>\n",
       "      <th>4</th>\n",
       "      <td>B000052YAN</td>\n",
       "      <td>B011IDBQH8</td>\n",
       "      <td>B00IA1JMEQ</td>\n",
       "      <td>B01JS1KMAO</td>\n",
       "      <td>B00119TXPW</td>\n",
       "      <td>B00BM8P08G</td>\n",
       "      <td>B0013GAIAW</td>\n",
       "      <td>B003O2RM5W</td>\n",
       "      <td>B0087W2ZME</td>\n",
       "      <td>B001E96P6O</td>\n",
       "      <td>...</td>\n",
       "      <td>NaN</td>\n",
       "      <td>NaN</td>\n",
       "      <td>NaN</td>\n",
       "      <td>NaN</td>\n",
       "      <td>NaN</td>\n",
       "      <td>NaN</td>\n",
       "      <td>NaN</td>\n",
       "      <td>NaN</td>\n",
       "      <td>NaN</td>\n",
       "      <td>NaN</td>\n",
       "    </tr>\n",
       "  </tbody>\n",
       "</table>\n",
       "<p>5 rows × 101 columns</p>\n",
       "</div>"
      ],
      "text/plain": [
       "         asin   also_buy1    also_buy2    also_buy3    also_buy4    also_buy5  \\\n",
       "0  7178680776  B01E7LCSL6   B008X5RVME          NaN          NaN          NaN   \n",
       "1  7367905066  B0041PBXX8          NaN          NaN          NaN          NaN   \n",
       "2  9742121109  B00IWI42GU   B005MZPP6M   B00BQKRFE2   B073K2C8C1   B00FM63WNY   \n",
       "3  9790787006  B004D8JQ4G   B0020MMD0G   B00ENL4HJW   B011YR4E4A   B001B0X05U   \n",
       "4  B000052YAN  B011IDBQH8   B00IA1JMEQ   B01JS1KMAO   B00119TXPW   B00BM8P08G   \n",
       "\n",
       "     also_buy6    also_buy7    also_buy8    also_buy9  ... also_buy91  \\\n",
       "0          NaN          NaN          NaN          NaN  ...        NaN   \n",
       "1          NaN          NaN          NaN          NaN  ...        NaN   \n",
       "2   B00OIDYK6A   B005IDTVC2   B015F41H3O          NaN  ...        NaN   \n",
       "3     60539100   B008X9T0B0   B004IFOXFQ   B00AIZU9IU  ...        NaN   \n",
       "4   B0013GAIAW   B003O2RM5W   B0087W2ZME   B001E96P6O  ...        NaN   \n",
       "\n",
       "  also_buy92 also_buy93 also_buy94 also_buy95 also_buy96 also_buy97  \\\n",
       "0        NaN        NaN        NaN        NaN        NaN        NaN   \n",
       "1        NaN        NaN        NaN        NaN        NaN        NaN   \n",
       "2        NaN        NaN        NaN        NaN        NaN        NaN   \n",
       "3        NaN        NaN        NaN        NaN        NaN        NaN   \n",
       "4        NaN        NaN        NaN        NaN        NaN        NaN   \n",
       "\n",
       "  also_buy98 also_buy99 also_buy100  \n",
       "0        NaN        NaN         NaN  \n",
       "1        NaN        NaN         NaN  \n",
       "2        NaN        NaN         NaN  \n",
       "3        NaN        NaN         NaN  \n",
       "4        NaN        NaN         NaN  \n",
       "\n",
       "[5 rows x 101 columns]"
      ]
     },
     "execution_count": 35,
     "metadata": {},
     "output_type": "execute_result"
    }
   ],
   "source": [
    "#import metadata:\n",
    "dfab = pd.read_csv ('meta_also_buy.csv')\n",
    "dfab.head()"
   ]
  },
  {
   "cell_type": "code",
   "execution_count": 20,
   "id": "67cdd1be",
   "metadata": {},
   "outputs": [
    {
     "name": "stdout",
     "output_type": "stream",
     "text": [
      "<class 'pandas.core.frame.DataFrame'>\n",
      "RangeIndex: 6516 entries, 0 to 6515\n",
      "Columns: 101 entries, asin to also_buy100\n",
      "dtypes: object(101)\n",
      "memory usage: 5.0+ MB\n"
     ]
    }
   ],
   "source": [
    "dfab.info()"
   ]
  },
  {
   "cell_type": "code",
   "execution_count": 17,
   "id": "831cda85",
   "metadata": {},
   "outputs": [
    {
     "data": {
      "text/plain": [
       "asin           6481\n",
       "also_buy1      5767\n",
       "also_buy2      4533\n",
       "also_buy3      3569\n",
       "also_buy4      2903\n",
       "               ... \n",
       "also_buy96      106\n",
       "also_buy97       81\n",
       "also_buy98       52\n",
       "also_buy99       29\n",
       "also_buy100       9\n",
       "Length: 101, dtype: int64"
      ]
     },
     "execution_count": 17,
     "metadata": {},
     "output_type": "execute_result"
    }
   ],
   "source": [
    "len(dfab)\n",
    "dfab.nunique()"
   ]
  }
 ],
 "metadata": {
  "kernelspec": {
   "display_name": "Python 3 (ipykernel)",
   "language": "python",
   "name": "python3"
  },
  "language_info": {
   "codemirror_mode": {
    "name": "ipython",
    "version": 3
   },
   "file_extension": ".py",
   "mimetype": "text/x-python",
   "name": "python",
   "nbconvert_exporter": "python",
   "pygments_lexer": "ipython3",
   "version": "3.9.7"
  }
 },
 "nbformat": 4,
 "nbformat_minor": 5
}
