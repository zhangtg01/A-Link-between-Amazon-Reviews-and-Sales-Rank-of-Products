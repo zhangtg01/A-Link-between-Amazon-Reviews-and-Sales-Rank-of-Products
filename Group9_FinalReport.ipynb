{
 "cells": [
  {
   "cell_type": "markdown",
   "metadata": {},
   "source": [
    "# A Link between Amazon Reviews and Sales Rank of Products"
   ]
  },
  {
   "cell_type": "markdown",
   "metadata": {},
   "source": [
    "## Author(s)\n",
    "List authors, their current affiliations,  up-to-date contact information, and StudentID if \n",
    "\n",
    "Author1 = {\"name\": \"Yujian Lai\", \"affiliation\": \"UBC Sauder School of Business\", \"email\": \"kinlai0714@163.com\", \"studentID\": \"70777982\"}\n",
    "\n",
    "Author2 = {\"name\": \"Aashna Ahuja\", \"affiliation\": \"UBC Sauder School of Business\", \"email\": \"aashna.ahuja@gmail.com\", \"studentid\": \"66688805\"}\n",
    "\n",
    "Author3 =  {\"name\": \"Leslie Major\", \"affiliation\": \"UBC Sauder School of Business\", \"email\": \"fairbairnmeister@gmail.com\", \"studentid\": \"76413376\"}\n",
    "\n",
    "Author4 =  {\"name\": \"Taige Zhang\", \"affiliation\": \"UBC Sauder School of Business\", \"email\": \"zhangtg01@gmail.com \", \"studentid\": \"26805440\"}\n",
    "\n",
    "Author5 =  {\"name\": \"Divsahib Singh Sachdeva\", \"affiliation\": \"UBC Sauder School of Business\", \"email\": \"divsahib@gmail.com\", \"studentid\": \"26090225\"}\n",
    "    \n"
   ]
  },
  {
   "cell_type": "markdown",
   "metadata": {
    "toc": true
   },
   "source": [
    "<h1>Table of Contents<span class=\"tocSkip\"></span></h1>\n",
    "<div class=\"toc\"><ul class=\"toc-item\"><li><span><a href=\"#Amazon Review Analysis Report\" data-toc-modified-id=\"Amazon Review Analysis Report\"><span class=\"toc-item-num\">1&nbsp;&nbsp;</span>Amazon Review Analysis Report</a></span><ul class=\"toc-item\"><li><span><a href=\"#Author(s)\" data-toc-modified-id=\"Author(s)-1.1\"><span class=\"toc-item-num\">1.1&nbsp;&nbsp;</span>Author(s)</a></span></li><li><span><a href=\"#Purpose\" data-toc-modified-id=\"Purpose-1.2\"><span class=\"toc-item-num\">1.2&nbsp;&nbsp;</span>Purpose</a></span></li><li><span><a href=\"#Methodology\" data-toc-modified-id=\"Methodology-1.3\"><span class=\"toc-item-num\">1.3&nbsp;&nbsp;</span>Methodology</a></span></li><li><span><a href=\"#Results\" data-toc-modified-id=\"Results-1.4\"><span class=\"toc-item-num\">1.4&nbsp;&nbsp;</span>Results</a></span></li><li><span><a href=\"#Suggested-next-steps\" data-toc-modified-id=\"Suggested-next-steps-1.5\"><span class=\"toc-item-num\">1.5&nbsp;&nbsp;</span>Suggested next steps</a></span></li></ul></li><li><span><a href=\"#Data Dictionary\" data-toc-modified-id=\"Data Dictionary-2\"><span class=\"toc-item-num\">2&nbsp;&nbsp;</span>Data Dictionary</a></span></li><li><span><a href=\"#Dataset Identification\" data-toc-modified-id=\"Dataset Identification-3\"><span class=\"toc-item-num\">3&nbsp;&nbsp;</span>Dataset Identification</a></span></li><li><span><a href=\"#References\" data-toc-modified-id=\"References-4\"><span class=\"toc-item-num\">4&nbsp;&nbsp;</span>References</a></span></li></ul></div>"
   ]
  },
  {
   "cell_type": "markdown",
   "metadata": {},
   "source": [
    "## Purpose\n",
    " \n",
    "This notebook lists the steps and results of the exploration, analysis and discussion of the dataset on Amazon reviews and their effects on sales ranks. Our team seeks to understand the relationship between a product's reviews and its effect on the product's sales on Amazon.\n",
    " \n",
    "## Methodology\n",
    " \n",
    "#### Our team is making the following assumptions:\n",
    "- A product's sales rank is an efficient indicator of the sales quantity for the product.\n",
    " \n",
    "#### Cleaning and Processing Metadata dataset\n",
    "The first step we took was to clean and process our Metadata dataset. The following steps were taken to clean the metadata dataset in Excel:\n",
    " \n",
    "- There was a large number of empty rows caused by HTML tables affecting the csv file. This caused many rows to be generated for just one row of actual data. Such rows were removed, and the relevant information was placed in its correct cell.\n",
    "- Problem entries were removed or changed. Some empty cells had empty square brackets instead of being empty. All of these cells were converted to empty cells. Product descriptions were modified also to be easily processed in SQL & python. Starting characters such as special characters were removed.\n",
    "- Ranks were amended to not include commas or any other special characters and be purely numeral based. Miscategorized products/rank rows were removed (73 out of 32981 entries).\n",
    "- Prices were cleaned up. The dollar amounts were converted to floats for easier handling. Any problem entries such as irrelevant text strings were removed.\n",
    "- The following columns were removed as they were either not relevant to our question, or were too sparse to use:\n",
    "rownum;\n",
    "category;\n",
    "tech1;\n",
    "fit;\n",
    "tech2;\n",
    "feature;\n",
    "details\n",
    "main_cat;\n",
    "similar_item;\n",
    "date;\n",
    "imageURL;\n",
    "imageURLHighRes.\n",
    " \n",
    " \n",
    "The following steps were taken to prepare the metadata dataset:\n",
    " \n",
    "- ASINs & Products Table Creation: After loading MetaData in Python, we ran .info() and .nunique on a dataframe and discovered that 352 ASINs in metadata were not unique. Such rows with non-unique ASINs were removed, as ASIN is the primary key for this dataset. The first row with the unique asin was retained and any subsequent rows with such an asin was removed. (.drop_duplicates(subset =\"asin\", keep = False, inplace = True) was used to do this). 704 non-unique rows were dropped.\n",
    "- Of the remaining rows, all had non-empty ranks, and almost all had unique titles. A total of 31512 unique rows/products were retained in the Metadata dataset.\n",
    "- Click on the following link to download the zipped folder containing the python & csv files where the data was cleaned & processed:\n",
    "- https://learn.bcit.ca/d2l/lor/viewer/view.d2l?ou=6605&loIdentId=41578\n",
    "- The python script for the review and summary sentiment analysis is also included in this folder.\n",
    " \n",
    " \n",
    "#### Cleaning and Processing Reviews dataset\n",
    "The following steps were taken to clean the Reviews dataset, listed by columns that needed amending:\n",
    "- ASIN: ‘asin’ column values were all converted to text, as some were coded as integers.\n",
    "- overall: ‘overall’ values were all converted to integer\n",
    "- vote: blank votes were coded as text instead of integer- there were changed to integer type\n",
    " \n",
    "The next step was to pre-process the Reviews data set and run a sentiment analysis on the reviews in python. The steps to do so were as follows:\n",
    " \n",
    "- The reviews were tokenized into a list of words using word_tokenize from nltk package.\n",
    "- Stop words were removed from the tokenized reviews.\n",
    "- A sentiment score was calculated for each review.\n",
    "- The sentiment scores were added to the dataframe as a new column, named review_polarity.\n",
    "- The summary column elements were tokenized into a list of words using word_tokenize from nltk package.\n",
    "- Stop words were removed from the tokenized summaries.\n",
    "- A sentiment score was calculated for each summary.\n",
    "- The sentiment scores for summaries were added to the dataframe as a new column, named summary_polarity.\n",
    "- Click on the following link to download the zipped folder containing the python & csv files where the data was cleaned & processed (same link as given in previous section):\n",
    "- https://learn.bcit.ca/d2l/lor/viewer/view.d2l?ou=6605&loIdentId=41578\n",
    "- The python script in the above link also contains the python script for conducting the sentiment analysis on the review and summary texts.\n",
    " \n",
    "#### Uploading Data to AWS RDS and Accessing the Database\n",
    "The cleaned, processed and updated dataset (which included the sentiment scores for the reviews and summaries) was uploaded as a table into AWS RDS instance, as was the metadata dataset.\n",
    "Our next step was to combine the two tables. We achieved this by using inner join to combine the two tables on the ASIN (product ID), which was the primary key for metadata and a foreign key for the reviews dataset.In order to analyze the data, we used psycopg2 library to connect our notebook to the database and run queries to pull data. The sales rank, review polarity, summary polarity and average overall rating of the product were pulled from the database and explored in depth. To download the python scipt (with PSQL commands) to load the data to AWS - click here:\n",
    "- HTML file: https://learn.bcit.ca/d2l/lor/viewer/view.d2l?ou=6605&loIdentId=41579\n",
    "- Jupyter Notebook file: https://learn.bcit.ca/d2l/lor/viewer/view.d2l?ou=6605&loIdentId=41582\n",
    " \n",
    "#### Steps to Analyze Data\n",
    " \n",
    "We employed statistical tools such as correlations to get an idea of the relationships between the x variables. A question we wanted to explore was if there was a difference in the effect verified reviews had on the sales rank, as opposed to all reviews (verified+unverified). We found that there was no significant difference after filtering out non-verified reviews (a subquery+where clauses were used to filter the data before joining the tables). Due to this result, we continued the rest of our exploration on the full dataset which included both verified and unverified reviews.\n",
    "It is worth noting that in our analysis, a lower magnitude for sales rank is a positive thing. That is to say, if a variable has a negative correlation with sales rank, it is effectively having a positive effect on said rank, as a rank of 1 is better than a rank of 2. We found that one such variable was the number of reviews- it had a high negative correlation with rank (meaning it had a high effect on improving the product's rank standing). Two other such variables were average time since reviews had started to be posted on the product, and the average number of votes a product's reviews got. Some other correlations we found in our data existed between # reviews & helpful votes as well as summary polarity & overall review rating.\n",
    "In order to further understand the relationship of these variables with the sales rank, our team employed a regression model. The x variables included in the model are average unix time, overall review score, number of helpful votes, average review polarity, average summary polarity and the number of reviews received.\n",
    "We found that:\n",
    "- Each of the mentioned metrics (average unix time, overall review score, number of helpful votes, average review polarity, average summary polarity and the number of reviews received) has a significant effect on product sales rank\n",
    "- However, other metrics could improve rank predictions (Our model has a low R-squared)\n",
    "\n",
    "## Full Analysis Jupyter Notebook\n",
    "- To download the Jupyter notebook with the full analysis of all of the data - go to: \n",
    "- HTML file: https://learn.bcit.ca/d2l/lor/viewer/view.d2l?ou=6605&loIdentId=41580\n",
    "- Jupyter Notebook file: https://learn.bcit.ca/d2l/lor/viewer/view.d2l?ou=6605&loIdentId=41581\n",
    "- This notebook includes all scatterplots, regression analysis, database queries, plots and analysis at each step.\n",
    " \n",
    " \n",
    "## Results\n",
    " \n",
    "In order to increase sales rank for an Amazon seller we recommend the following actions:\n",
    "- Market share typically increases over time - start online presence (Amazon or other) as soon as possible\n",
    "- Encourage customers to vote on whether reviews were helpful\n",
    "- Encourage customers to give reviews on products\n",
    "- Follow up on reviews with negative summary sentiment or low overall ratings\n",
    " \n",
    " \n",
    "## Suggested next steps\n",
    "It would be interesting to next examine the same features/metrics but divide the reviews into positive and negative reviews when doing the analysis. The questions to answer: what are the key features that affect the product sales rank for negative reviews? What are the key features that affect sales rank for positive reviews? Does verified have an effect on positive or negative reviews also?"
   ]
  },
  {
   "cell_type": "markdown",
   "metadata": {},
   "source": [
    "# Data Dictionary\n",
    "The data dictionary is given below for our dataset."
   ]
  },
  {
   "cell_type": "markdown",
   "metadata": {},
   "source": [
    "|                                     Source                                    |       Source Name       | Num | Source |  Variable Name | Variable Type |                             Meaning                             |                                            Use                                            | Holds sensitive   data |                                      Sample Values                                      |   |\n",
    "|:-----------------------------------------------------------------------------:|:-----------------------:|:---:|:------:|:--------------:|:-------------:|:---------------------------------------------------------------:|:-----------------------------------------------------------------------------------------:|:----------------------:|:---------------------------------------------------------------------------------------:|---|\n",
    "| https://nijianmo.github.io/amazon/index.html<br>     <br>     Jianmo Ni, UCSD |    All_Beauty.json.gz   |  1  | Review | verified       | boolean       | has the review been   verified                                  | to verify if the   review was written by an actual buyer                                  | No                     | TRUE                                                                                    |   |\n",
    "|                                                                               |                         |  2  | Review | overall        | real          | overall star ratings   for each individual review (from 1 to 5) | to compute average   rating for product                                                   | No                     | 2.0                                                                                     |   |\n",
    "|                                                                               |                         |  3  | Review | reviewerID     | text          | ID of the reviewer                                              | to identify reviewer                                                                      | No                     | A2SUAM1J3GNN3B                                                                          |   |\n",
    "|                                                                               |                         |  4  | Review | reviewID       | text          | ID of the review                                                | to identify reviews                                                                       | No                     | R_000689732                                                                             |   |\n",
    "|                                                                               |                         |  5  | Review | asin           | text          | ID of the product                                               | to identify product                                                                       | No                     | B00068PBJ                                                                               |   |\n",
    "|                                                                               |                         |  6  | Review | reviewText     | text          | text of the review                                              | run text analytics on   reviews and extract key words and do perform sentiment analysis   | No                     | Really nice   eyeliner!\t                                                               |   |\n",
    "|                                                                               |                         |  7  | Review | summary        | text          | summary of the review                                           | run text analytics on   summaries and extract key words and do perform sentiment analysis | No                     | Nice quality, love   the compact packaging\t                                           |   |\n",
    "|                                                                               |                         |  8  | Review | unixReviewTime | bigint        | time of the review   (unix time)                                | to identify relevance   of review                                                         | No                     | 1418860800                                                                              |   |\n",
    "|                                                                               |                         |  9  | Review | vote           | real          | helpful votes of the   review                                   | to identify if votes   affect impact of review                                            | No                     | 5.0                                                                                     |   |\n",
    "|                                                                               |                         |  10 | Review | style          | text          | a disctionary of the   product metadata,                        | to determine if one   style is performing better than others                              | No                     | {'Size:': ' 6.25   Inches'}                                                             |   |\n",
    "| https://nijianmo.github.io/amazon/index.html<br>     <br>     Jianmo Ni, UCSD | meta_All_Beauty.json.gz |  11 |  Meta  | description    | text          | description of the   product                                    | run text analytics on   description and extract key words                                 | No                     | Lacto Calamine Skin   Balance Daily Nourishing Lotion - Oil Control (120ml) (Pack of 2) |   |\n",
    "|                                                                               |                         |  12 |  Meta  | title          | text          | name of the product                                             | run text analytics on   the title and extract key words                                   | No                     | Lacto Calamine Skin   Balance Oil control 120 ml. (Pack of 2)                           |   |\n",
    "|                                                                               |                         |  13 |  Meta  | brand          | text          | brand name                                                      | to identify if brand   affects impact of review                                           | No                     | Pirmal Healthcare                                                                       |   |\n",
    "|                                                                               |                         |  14 |  Meta  | rank           | text          | sales rank   information                                        | to correlate with   reviews (target variable)                                             | No                     | 67,701 in Beauty   & Personal Care                                                      |   |\n",
    "|                                                                               |                         |  15 |  Meta  | price          | money         | price in US dollars   (at time of crawl)                        | to determine if price   affects reviews or sales rank                                     | No                     | $12.15                                                                                  |   |\n"
   ]
  },
  {
   "cell_type": "markdown",
   "metadata": {},
   "source": [
    "\n",
    "# Data Identification\n",
    "Our team is using two datasets. The first lists the reviews for products, reviewer's ID, product ID number, name of reviewer, overall rating etc. In this dataset, we are concerened with the review, rating and the product ID the said reviews are associated with. \n",
    "The second dataset contains metadata regarding products. It includes product ID (which links it to our previous dataset), name of the product, it's brand and most importantly, the sales rank information for the product. \n",
    "By combining information from both these datasets, using the product ID number as our reference to connect the two datasets, we seek to explore the effects of reviews left by customers on a product to it's sales ranking."
   ]
  },
  {
   "cell_type": "markdown",
   "metadata": {},
   "source": [
    "\n",
    "\n",
    "  \n",
    "### Amazon Review Data- All Beauty\n",
    " \n",
    " * Title: not available\n",
    " * URI: https://nijianmo.github.io/amazon/index.html\n",
    " * Keywords: Reviews, Vote, Overall\n",
    " * Publication Date: 2018\n",
    " * Publisher: UCSD\n",
    " * Creator: Julian McAuley, Jianmo Ni\n",
    " * Contact Point: N/A\n",
    " * Spatial Coverage: not available\n",
    " * Temporal Coverage: May 1996- October 2018\n",
    " * Language: not available\n",
    " * Date & Time Formats: unixTime\n",
    " * Data Version: not available\n",
    " * Access Date: Jan 21, 2022\n",
    " \n",
    "### Amazon Meta Data- All Beauty\n",
    "* Title: not available\n",
    " * URI: https://nijianmo.github.io/amazon/index.html\n",
    " * Keywords: Product, Sales Rank\n",
    " * Publication Date: 2018\n",
    " * Publisher: UCSD\n",
    " * Creator: Julian McAuley, Jianmo Ni\n",
    " * Contact Point: N/A\n",
    " * Spatial Coverage: not available\n",
    " * Temporal Coverage: October 2018\n",
    " * Language: not available\n",
    " * Date & Time Formats: N/A\n",
    " * Data Version: not available\n",
    " * Access Date: Jan 21, 2022\n"
   ]
  },
  {
   "cell_type": "markdown",
   "metadata": {},
   "source": [
    "# References\n",
    "List relevant references.\n",
    "\n",
    "1. Notebook sharing guidelines from reproducible-science-curriculum: https://reproducible-science-curriculum.github.io/publication-RR-Jupyter/\n",
    "2. Guide for developing shareable notebooks by Kevin Coakley, SDSC: https://github.com/kevincoakley/sharing-jupyter-notebooks/raw/master/Jupyter-Notebooks-Sharing-Recommendations.pdf\n",
    "3. Guide for sharing notebooks by Andrea Zonca, SDSC: https://zonca.dev/2020/09/how-to-share-jupyter-notebooks.html\n",
    "4. Jupyter Notebook Best Practices: https://towardsdatascience.com/jupyter-notebook-best-practices-f430a6ba8c69\n",
    "5. Introduction to Jupyter templates nbextension: https://towardsdatascience.com/stop-copy-pasting-notebooks-embrace-jupyter-templates-6bd7b6c00b94  \n",
    "    5.1. Table of Contents (Toc2) readthedocs: https://jupyter-contrib-nbextensions.readthedocs.io/en/latest/nbextensions/toc2/README.html  \n",
    "    5.2. Steps to install toc2: https://stackoverflow.com/questions/23435723/installing-ipython-notebook-table-of-contents\n",
    "6. Rule A, Birmingham A, Zuniga C, Altintas I, Huang SC, et al. (2019) Ten simple rules for writing and sharing computational analyses in Jupyter Notebooks. PLOS Computational Biology 15(7): e1007007. https://doi.org/10.1371/journal.pcbi.1007007. Supplementary materials: example notebooks (https://github.com/jupyter-guide/ten-rules-jupyter) and tutorial (https://github.com/ISMB-ECCB-2019-Tutorial-AM4/reproducible-computational-workflows)\n",
    "7. Languages supported by Jupyter kernels: https://github.com/jupyter/jupyter/wiki/Jupyter-kernels\n",
    "8. EarthCube notebooks presented at EC Annual Meeting 2020: https://www.earthcube.org/notebooks\n"
   ]
  }
 ],
 "metadata": {
  "kernelspec": {
   "display_name": "Python 3 (ipykernel)",
   "language": "python",
   "name": "python3"
  },
  "language_info": {
   "codemirror_mode": {
    "name": "ipython",
    "version": 3
   },
   "file_extension": ".py",
   "mimetype": "text/x-python",
   "name": "python",
   "nbconvert_exporter": "python",
   "pygments_lexer": "ipython3",
   "version": "3.9.12"
  },
  "toc": {
   "base_numbering": 1,
   "nav_menu": {},
   "number_sections": true,
   "sideBar": true,
   "skip_h1_title": false,
   "title_cell": "Table of Contents",
   "title_sidebar": "Contents",
   "toc_cell": true,
   "toc_position": {
    "height": "calc(100% - 180px)",
    "left": "10px",
    "top": "150px",
    "width": "248.182px"
   },
   "toc_section_display": true,
   "toc_window_display": true
  }
 },
 "nbformat": 4,
 "nbformat_minor": 4
}
